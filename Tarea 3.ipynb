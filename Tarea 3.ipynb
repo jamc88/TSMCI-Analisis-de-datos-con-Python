{
 "cells": [
  {
   "cell_type": "markdown",
   "id": "a2e3cde1",
   "metadata": {},
   "source": [
    "# Tarea 3\n",
    "\n",
    "### TSMC-I: Análisis de datos en Python\n",
    "\n",
    "Fecha de entrega: Viernes 8 de diciembre "
   ]
  },
  {
   "cell_type": "markdown",
   "id": "b63a23fd",
   "metadata": {},
   "source": [
    "**1.** Guarde en un Dataframe los datos de los precios de las acciones de Walt-Mart de México (*WALMEX.csv* en Github) y realice lo siguiente:\n",
    "\n",
    "* Describa la distribución de los precios de cierre utilizando el Teorema de Chebyshev ó la Regla empírica (si es aplicable).\n",
    "\n",
    "* Obtenga el precio de cierre más alto y el precio de cierre más bajo a partir del 2023.\n",
    "\n",
    "* Obtenga las gráficas de las series de tiempo de cada mes del 2023 utilizando subplots.\n",
    "\n",
    "* Obtenga las gráficas de caja por mes de los precios de cierre del 2022. \n",
    "\n",
    "* ¿Los precios de cierre de todo el año registrado se distribuyen normalmente? Justifique su respuesta."
   ]
  },
  {
   "cell_type": "markdown",
   "id": "ba8d680a",
   "metadata": {},
   "source": [
    "**2.** Guarde en un Dataframe los datos de los 5 contaminantes principales de la zona centro de la CDMX durante el año 2021 (*contam2021.xlsx* en Github) y realice lo siguiente:\n",
    "\n",
    "* Obtenga las gráficas de series de tiempo de los contaminantes.\n",
    "\n",
    "* Describa la distribución de los contaminantes utilizando el Teorema de Chebyshev ó la Regla empírica (si es aplicable).\n",
    "\n",
    "* Obtenga un Dataframe con el resumen de 5 números para todos los contaminantes.\n",
    "\n",
    "* Obtenga los gráficos de caja de los contaminantes. ¿Cuál contaminante fué el que más detectado durante 2021?\n",
    "\n",
    "* Realice una prueba de contraste de normalidad de los datos.\n",
    "\n",
    "* De acuerdo a la prueba obtenida anteriormente. ¿Cuál es el coeficiente de correlación apropiado para obtener la correlación entre los contaminantes?\n",
    "\n",
    "* Obtenga una matríz de correlación de los contaminantes. Y obtenga un Dataframe que muestre la correlación 2 a 2 entre los contaminantes.\n",
    "\n",
    "* Obtenga un diagrama de dispersión de los 2 contaminantes donde existe más correlación.\n",
    "\n",
    "* Obtenga una gráfica que muestre todos los diagrama de dispersión entre todos los contaminantes.\n",
    "\n",
    "* ¿Cuales son sus conclusiones?\n",
    "\n"
   ]
  },
  {
   "cell_type": "code",
   "execution_count": null,
   "id": "fd07ce19",
   "metadata": {},
   "outputs": [],
   "source": []
  }
 ],
 "metadata": {
  "kernelspec": {
   "display_name": "Python 3 (ipykernel)",
   "language": "python",
   "name": "python3"
  },
  "language_info": {
   "codemirror_mode": {
    "name": "ipython",
    "version": 3
   },
   "file_extension": ".py",
   "mimetype": "text/x-python",
   "name": "python",
   "nbconvert_exporter": "python",
   "pygments_lexer": "ipython3",
   "version": "3.9.6"
  }
 },
 "nbformat": 4,
 "nbformat_minor": 5
}
