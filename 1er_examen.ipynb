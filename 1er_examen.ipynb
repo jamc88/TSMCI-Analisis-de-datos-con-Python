{
 "cells": [
  {
   "cell_type": "markdown",
   "id": "a2e3cde1",
   "metadata": {},
   "source": [
    "# 1er examen parcial\n",
    "\n",
    "### TSMC-I: Análisis de datos en Python\n",
    "\n",
    "8 de diciembre "
   ]
  },
  {
   "cell_type": "markdown",
   "id": "cc158e9d",
   "metadata": {},
   "source": [
    "Nombre:\n",
    "\n",
    "Unidad:"
   ]
  },
  {
   "cell_type": "markdown",
   "id": "938d12c3",
   "metadata": {},
   "source": [
    "1. Para un vector de datos $X=[x_1,x_2,...,x_n]$, su vector de datos estandarizados es de la forma $Z_X=[z_1,z_2,...,z_n]$, donde \n",
    "\n",
    "$$\n",
    "z_i = \\frac{x_i - \\min (X)}{\\max(X)- \\min (X)}, \n",
    "$$\n",
    "\n",
    "para cada $i=1,...,n$. Crea una función que estandarize un vector de datos $X$."
   ]
  },
  {
   "cell_type": "markdown",
   "id": "1128f340",
   "metadata": {},
   "source": [
    "2. Obtener la gráfica de nivel de la función $z=f(x,y)$ en $[\\frac{1}{2},2]\\times[\\frac{1}{2},2]$, donde \n",
    "\n",
    "$$\\sin(y) = \\arctan (\\frac{e^{\\cos(x)}-\\ln(z)}{2})$$\n"
   ]
  },
  {
   "cell_type": "markdown",
   "id": "f4e67a10",
   "metadata": {},
   "source": [
    "3. Utilice los datos de los homicidios por estado del 2017 al 2022 del repositorio y obtenga lo siguiente:\n",
    "\n",
    "a) Un Dataframe que contenga el total de homicidios por año durante el 2017 al 2020. \n",
    "\n",
    "b) Una gráfica de barras que ilustre los datos del inciso anterior.\n",
    "\n",
    "c) Un Dataframe que contenga el total de homicidios de mujeres durante el 2017 al 2020 en la región Noroeste. \n",
    "\n",
    "d) Una gráfica de barras que ilustre los datos del inciso anterior."
   ]
  },
  {
   "cell_type": "markdown",
   "id": "b63a23fd",
   "metadata": {},
   "source": [
    "4. Guarde en un Dataframe los datos de los precios de las acciones de Banorte (*GFNORTEO.csv* en Github) y realice lo siguiente:\n",
    "\n",
    "a) Grafique la serie de tiempo de los precios de cierre.\n",
    "\n",
    "b) Describa la distribución de los precios de cierre utilizando el Teorema de Chebyshev ó la Regla empírica (si es aplicable).\n",
    "\n",
    "c) Obtenga el precio de cierre más alto y el precio de cierre más bajo a partir del 2023.\n",
    "\n",
    "\n",
    "d) Obtenga las gráficas de caja por bimestre de todo el año registrado. \n",
    "\n",
    "e) ¿Los precios de cierre de todo el año registrado se distribuyen normalmente? Justifique su respuesta."
   ]
  },
  {
   "cell_type": "markdown",
   "id": "ba8d680a",
   "metadata": {},
   "source": [
    "5. Guarde en un Dataframe los datos de los 5 contaminantes principales de la zona centro de la CDMX durante el año 2020 (*contam2020.xlsx* en Github) indexados por la fecha y con las columnas O3, SO2, NO2, CO y PM10. A continuación, realice lo siguiente:\n",
    "\n",
    "a) Obtenga las gráficas de series de tiempo de los contaminantes.\n",
    "\n",
    "b) Obtenga los gráficos de caja de los contaminantes. ¿Cuál contaminante menos detectado durante 2020?\n",
    "\n",
    "c) Realice una prueba de contraste de normalidad de los datos.\n",
    "\n",
    "d) De acuerdo a la prueba obtenida anteriormente. ¿Cuál es el coeficiente de correlación apropiado para obtener la correlación entre los contaminantes?\n",
    "\n",
    "e) Obtenga una matríz de correlación de los contaminantes. Y obtenga un Dataframe que muestre la correlación 2 a 2 entre los contaminantes.\n",
    "\n",
    "f) Obtenga 3 diagramas de dispersión de los contaminantes donde existe más correlación.\n",
    "\n",
    "g) Obtenga una gráfica que muestre todos los diagrama de dispersión entre todos los contaminantes.\n",
    "\n",
    "h) ¿Cuales son sus conclusiones?\n"
   ]
  },
  {
   "cell_type": "code",
   "execution_count": null,
   "id": "fd07ce19",
   "metadata": {},
   "outputs": [],
   "source": []
  }
 ],
 "metadata": {
  "kernelspec": {
   "display_name": "Python 3 (ipykernel)",
   "language": "python",
   "name": "python3"
  },
  "language_info": {
   "codemirror_mode": {
    "name": "ipython",
    "version": 3
   },
   "file_extension": ".py",
   "mimetype": "text/x-python",
   "name": "python",
   "nbconvert_exporter": "python",
   "pygments_lexer": "ipython3",
   "version": "3.11.3"
  }
 },
 "nbformat": 4,
 "nbformat_minor": 5
}
