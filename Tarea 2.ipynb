{
 "cells": [
  {
   "cell_type": "markdown",
   "id": "a2e3cde1",
   "metadata": {},
   "source": [
    "# Tarea 2\n",
    "\n",
    "### TSMC-I: Análisis de datos en Python\n",
    "\n",
    "Fecha de entrega: Viernes 1 de diciembre "
   ]
  },
  {
   "cell_type": "markdown",
   "id": "3d22614d",
   "metadata": {},
   "source": [
    "**1.** Para dos vectores en $u,v\\in \\mathbb{R}^3$, sabemos que $u\\cdot v = ||u|| ||v|| \\cos(\\theta)$, donde $\\theta$ es el ángulo que forman los vectores $u$ y $v$. \n",
    "\n",
    "Construya una función que reciba los vectores $u = [x_1, y_1, z_1]$ y $v = [x_2, y_2, z_2]$, y  retorne el ángulo que existe entre ellos. \n",
    "\n",
    "\n",
    "Utilice las funciones de numpy:\n",
    " * $dot(u,v)$ para obtener el producto escalar entre los vectores $u$ y $v$ \n",
    " * $linalg.norm(u)$ para obtener la norma de un vector $u$"
   ]
  },
  {
   "cell_type": "markdown",
   "id": "e05decfd",
   "metadata": {},
   "source": [
    "**2.** Obtener la gráfica de nivel de la función\n"
   ]
  },
  {
   "cell_type": "markdown",
   "id": "3c91749c",
   "metadata": {},
   "source": [
    "$$z= \\sin(e^x)  \\cos(\\log y) \\mbox{ en } [\\frac{1}{4},5]\\times[\\frac{1}{4},5]$$"
   ]
  },
  {
   "cell_type": "markdown",
   "id": "4e34185a",
   "metadata": {},
   "source": [
    "**3.** Resuelva por el método de cramer el siguiente sistema de ecuaciones:\n",
    "\n",
    "<img src=\"et.png\" width=\"400\" height=\"250\"> \n",
    "\n",
    "\n",
    "Posteriormente, utilice la función *solve* de numpy para verificar sus soluciones."
   ]
  },
  {
   "cell_type": "markdown",
   "id": "ba8d680a",
   "metadata": {},
   "source": [
    "**4.** Utilice la los datos del archivo *nacimientos_2022* del repositorio en Github y obtenga lo siguiente:\n",
    "\n",
    "* El número total de nacimientos en 2022\n",
    "* El número total de nacimientos en la región centro-sur\n",
    "* Elabore un dataframe que contenga el número de nacimientos de mujeres por región."
   ]
  },
  {
   "cell_type": "code",
   "execution_count": null,
   "id": "46ecad4d",
   "metadata": {},
   "outputs": [],
   "source": []
  }
 ],
 "metadata": {
  "kernelspec": {
   "display_name": "Python 3 (ipykernel)",
   "language": "python",
   "name": "python3"
  },
  "language_info": {
   "codemirror_mode": {
    "name": "ipython",
    "version": 3
   },
   "file_extension": ".py",
   "mimetype": "text/x-python",
   "name": "python",
   "nbconvert_exporter": "python",
   "pygments_lexer": "ipython3",
   "version": "3.9.6"
  }
 },
 "nbformat": 4,
 "nbformat_minor": 5
}
