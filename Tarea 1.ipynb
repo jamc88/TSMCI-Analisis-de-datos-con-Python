{
 "cells": [
  {
   "cell_type": "markdown",
   "id": "ec637b21",
   "metadata": {},
   "source": [
    "# Tarea 1\n",
    "\n",
    "### TSMC-I: Análisis de datos en Python\n",
    "\n",
    "Fecha de entrega: Viernes 24 de noviembre  "
   ]
  },
  {
   "cell_type": "markdown",
   "id": "5d0959e5",
   "metadata": {},
   "source": [
    "1. Crea un bucle para obtener el promedio de todos los elementos que se encuentran en las siguientes listas:"
   ]
  },
  {
   "cell_type": "code",
   "execution_count": 1,
   "id": "71ca6354",
   "metadata": {},
   "outputs": [],
   "source": [
    "L1=[7.2,7.8,6.8,8.0,None,8.2,5.6,8.2,7.7,7.5,None,5.8]\n",
    "L2=[6.8,None,6.8,6.1,7.9,9.4,None]\n",
    "L3=[8.5,9.0,None,7.7]"
   ]
  },
  {
   "cell_type": "markdown",
   "id": "350d0a6a",
   "metadata": {},
   "source": [
    "2. Crea un bucle que divida en 3 listas del mismo tamaño a los elementos de las listas anteriores ordenados de menor a mayor."
   ]
  },
  {
   "cell_type": "markdown",
   "id": "7562b33b",
   "metadata": {},
   "source": [
    "3. Crea una función que reciba nueve elementos de una matriz cuadrada de 3x3 y que retorne el determinante de la matriz."
   ]
  },
  {
   "cell_type": "code",
   "execution_count": 2,
   "id": "aed01a85",
   "metadata": {},
   "outputs": [],
   "source": [
    "def det(a_11,a_12,a_13,a_21,a_22,a_23,a_31,_32,a_33):\n",
    "    return x\n",
    "    "
   ]
  },
  {
   "cell_type": "markdown",
   "id": "d1e66285",
   "metadata": {},
   "source": [
    "4. A partir de la lista *L*, crea una nueva lista tomando en cuenta lo siguiente:\n",
    "\n",
    "* La nueva lista debe contener solo los estados de la República Mexicana \n",
    "* Todos los estados deben comenzar con letra Mayúscula \n",
    "* Elimina los espacios en blanco y caracteres que no correspondan con el nombre del estado.\n",
    "* La nueva lista debe estar en orden alfabético\n",
    "* Si falta algún estado, debe ser agregado"
   ]
  },
  {
   "cell_type": "code",
   "execution_count": 3,
   "id": "ddee6254",
   "metadata": {},
   "outputs": [],
   "source": [
    "L = ['!Sonora','#aguascalientes ','4Baja_California',',Zacatecas','toluca','9Baja_California_Sur','Tabasco',' campeche?',\n",
    " 'Quintana_Roo ','&Morelia','coahuila_de_Zaragozaç','¿colima+','cdmx','3Durango','guanajuato','Guadalajara'\n",
    " ':Guerrero','Hidalgo#','San_Luis_Potosi',' Jalisco','&Estado_de_Mexico','!michoacan¿ ','Morelos','Nayarit',\n",
    " '5Nuevo_Leon','Oaxaca;',' Puebla,','Monterrey','queretaro4',' -Sinaloa','tamaulipas ','Chihuahua ','Tlaxcala','Yucatan','chiapas']"
   ]
  },
  {
   "cell_type": "markdown",
   "id": "9faa7858",
   "metadata": {},
   "source": [
    "5. Con la lista anterior, crea un diccionario donde la clave sea la abreviatura del estado y el valor el nombre del estado. Las abreviaturas son las siguientes:\n",
    "\n"
   ]
  },
  {
   "cell_type": "code",
   "execution_count": null,
   "id": "ffa78bfa",
   "metadata": {},
   "outputs": [],
   "source": [
    "AG,BC,BS,CM,CO,CL,CS,CH,CX,DG,GT,GR,HG,JC,EM,MI,MO,NA,NL,OA,PU,QT,QR,SL,SI,SO,TB,TM,TL,VE,YU,ZA"
   ]
  }
 ],
 "metadata": {
  "kernelspec": {
   "display_name": "Python 3 (ipykernel)",
   "language": "python",
   "name": "python3"
  },
  "language_info": {
   "codemirror_mode": {
    "name": "ipython",
    "version": 3
   },
   "file_extension": ".py",
   "mimetype": "text/x-python",
   "name": "python",
   "nbconvert_exporter": "python",
   "pygments_lexer": "ipython3",
   "version": "3.9.6"
  }
 },
 "nbformat": 4,
 "nbformat_minor": 5
}
